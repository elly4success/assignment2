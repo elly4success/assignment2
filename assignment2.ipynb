{
 "cells": [
  {
   "cell_type": "markdown",
   "metadata": {},
   "source": [
    "# Question 6"
   ]
  },
  {
   "cell_type": "code",
   "execution_count": 6,
   "metadata": {},
   "outputs": [
    {
     "name": "stdout",
     "output_type": "stream",
     "text": [
      "Enter the first integer: 35\n",
      "Enter the second integer: 89\n",
      "89 is the larger of the two integers\n"
     ]
    }
   ],
   "source": [
    "try:\n",
    "    a = int(input(\"Enter the first integer: \"))\n",
    "    b = int(input(\"Enter the second integer: \"))\n",
    "    def larger(a,b):\n",
    "        if a > b:\n",
    "            return a\n",
    "        else:\n",
    "            return b\n",
    "    large = larger(a,b)\n",
    "    print (large, \"is the larger of the two integers\")\n",
    "except:\n",
    "    print(\"Enter a number!!!\")"
   ]
  },
  {
   "cell_type": "code",
   "execution_count": null,
   "metadata": {},
   "outputs": [],
   "source": []
  },
  {
   "cell_type": "markdown",
   "metadata": {},
   "source": [
    "# Question 7"
   ]
  },
  {
   "cell_type": "code",
   "execution_count": 2,
   "metadata": {},
   "outputs": [
    {
     "name": "stdout",
     "output_type": "stream",
     "text": [
      "Enter the first number: 56\n",
      "Enter the second number: 45\n",
      "Enter the third number: 34\n",
      "34 is the smallest of the three\n"
     ]
    }
   ],
   "source": [
    "x = int(input(\"Enter the first number: \"))\n",
    "y = int(input(\"Enter the second number: \"))\n",
    "z = int(input(\"Enter the third number: \"))\n",
    "def smallest(x,y,z):\n",
    "    return min(x,y,z)\n",
    "small = smallest (x,y,z)\n",
    "print(small, \"is the smallest of the three\")"
   ]
  },
  {
   "cell_type": "code",
   "execution_count": null,
   "metadata": {},
   "outputs": [],
   "source": []
  },
  {
   "cell_type": "markdown",
   "metadata": {},
   "source": [
    "# Question 8"
   ]
  },
  {
   "cell_type": "code",
   "execution_count": 3,
   "metadata": {},
   "outputs": [
    {
     "name": "stdout",
     "output_type": "stream",
     "text": [
      "Enter your score: 54\n",
      "Your grade is C\n"
     ]
    }
   ],
   "source": [
    "score = int(input(\"Enter your score: \"))\n",
    "def grader(grade):\n",
    "    if score >= 0 and score <= 40:\n",
    "        return (\"Your grade is F\")\n",
    "    elif score > 40 and score <= 50:\n",
    "        return(\"your grade is D\")\n",
    "    elif score > 50 and score <= 60:\n",
    "        return(\"Your grade is C\")\n",
    "    elif score > 60 and score <= 70:\n",
    "        return(\"Your grade is B\")\n",
    "    elif score > 70 and score <=100:\n",
    "        return (\"Your grade is A\")\n",
    "    else:\n",
    "        return(\"Enter a valid score!!!\")\n",
    "grade = grader(score)\n",
    "print(grade)"
   ]
  },
  {
   "cell_type": "code",
   "execution_count": null,
   "metadata": {},
   "outputs": [],
   "source": []
  },
  {
   "cell_type": "markdown",
   "metadata": {},
   "source": [
    "# Question 9"
   ]
  },
  {
   "cell_type": "code",
   "execution_count": 4,
   "metadata": {},
   "outputs": [
    {
     "name": "stdout",
     "output_type": "stream",
     "text": [
      "Enter the base of the triangle:20\n",
      "Enter the height of the triangle:67\n",
      "The area is 670.0\n"
     ]
    }
   ],
   "source": [
    "base = int(input(\"Enter the base of the triangle:\"))\n",
    "height = int(input(\"Enter the height of the triangle:\"))\n",
    "def area(base,height):\n",
    "    return(0.5*base*height)\n",
    "area1 = area(base,height)\n",
    "print(\"The area is\",area1)"
   ]
  },
  {
   "cell_type": "code",
   "execution_count": null,
   "metadata": {},
   "outputs": [],
   "source": []
  }
 ],
 "metadata": {
  "kernelspec": {
   "display_name": "Python 3",
   "language": "python",
   "name": "python3"
  },
  "language_info": {
   "codemirror_mode": {
    "name": "ipython",
    "version": 3
   },
   "file_extension": ".py",
   "mimetype": "text/x-python",
   "name": "python",
   "nbconvert_exporter": "python",
   "pygments_lexer": "ipython3",
   "version": "3.6.7"
  }
 },
 "nbformat": 4,
 "nbformat_minor": 2
}
